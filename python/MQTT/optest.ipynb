{
 "cells": [
  {
   "cell_type": "code",
   "execution_count": 1,
   "metadata": {},
   "outputs": [],
   "source": [
    "import json"
   ]
  },
  {
   "cell_type": "code",
   "execution_count": 9,
   "metadata": {},
   "outputs": [
    {
     "data": {
      "text/plain": [
       "{'TYPE': 'AICloud',\n",
       " 'CMD': 'Stacker',\n",
       " 'Station': 'Stacker',\n",
       " 'Eqp_name': 'ase2-02',\n",
       " 'APName': 'ase2-02',\n",
       " 'SN': 'current_time_string',\n",
       " 'mqttlisten': 'Wbcim/AI_Service/return/Stacker_AI/ase2-02/current_time_string',\n",
       " 'VpData': {'vpname': 'MaskCloud',\n",
       "  'base64': 'encoded_image_string',\n",
       "  'Storage_grid': 'A',\n",
       "  'Storage_layer': '2',\n",
       "  'Storage_spaces': 'C-12-2'}}"
      ]
     },
     "execution_count": 9,
     "metadata": {},
     "output_type": "execute_result"
    }
   ],
   "source": [
    "content = \\\n",
    "{\n",
    "    \"Eqp\": {\n",
    "        \"TYPE\": \"AICloud\",\n",
    "        \"CMD\": \"Stacker\",\n",
    "        \"Station\": \"Stacker\",\n",
    "        \"Eqp_name\": \"ase2-02\",\n",
    "        \"APName\": \"ase2-02\",\n",
    "        \"SN\": \"current_time_string\",\n",
    "        \"mqttlisten\": \"Wbcim/AI_Service/return/Stacker_AI/ase2-02/current_time_string\",\n",
    "        \"VpData\": {\n",
    "            \"vpname\": \"MaskCloud\",\n",
    "            \"base64\": \"encoded_image_string\",\n",
    "            \"Storage_grid\": \"A\",\n",
    "            \"Storage_layer\": \"2\",\n",
    "            \"Storage_spaces\": \"C-12-2\"\n",
    "        }\n",
    "    }\n",
    "}\n",
    "\n",
    "content[\"Eqp\"]"
   ]
  },
  {
   "cell_type": "code",
   "execution_count": 13,
   "metadata": {},
   "outputs": [
    {
     "data": {
      "text/plain": [
       "'{\"Eqp\": {\"TYPE\": \"AICloud\", \"CMD\": \"Stacker\", \"Station\": \"Stacker\", \"Eqp_name\": \"ase2-02\", \"APName\": \"ase2-02\", \"SN\": \"current_time_string\", \"mqttlisten\": \"Wbcim/AI_Service/return/Stacker_AI/ase2-02/current_time_string\", \"VpData\": {\"vpname\": \"MaskCloud\", \"base64\": \"encoded_image_string\", \"Storage_grid\": \"A\", \"Storage_layer\": \"2\", \"Storage_spaces\": \"C-12-2\"}}}'"
      ]
     },
     "execution_count": 13,
     "metadata": {},
     "output_type": "execute_result"
    }
   ],
   "source": [
    "jsonStringOfContent = json.dumps(content)\n",
    "jsonStringOfContent # this is string"
   ]
  },
  {
   "cell_type": "code",
   "execution_count": 14,
   "metadata": {},
   "outputs": [
    {
     "data": {
      "text/plain": [
       "{'Eqp': {'TYPE': 'AICloud',\n",
       "  'CMD': 'Stacker',\n",
       "  'Station': 'Stacker',\n",
       "  'Eqp_name': 'ase2-02',\n",
       "  'APName': 'ase2-02',\n",
       "  'SN': 'current_time_string',\n",
       "  'mqttlisten': 'Wbcim/AI_Service/return/Stacker_AI/ase2-02/current_time_string',\n",
       "  'VpData': {'vpname': 'MaskCloud',\n",
       "   'base64': 'encoded_image_string',\n",
       "   'Storage_grid': 'A',\n",
       "   'Storage_layer': '2',\n",
       "   'Storage_spaces': 'C-12-2'}}}"
      ]
     },
     "execution_count": 14,
     "metadata": {},
     "output_type": "execute_result"
    }
   ],
   "source": [
    "dicOfJsonString = json.loads(jsonStringOfContent)\n",
    "dicOfJsonString # this is dictionary"
   ]
  }
 ],
 "metadata": {
  "kernelspec": {
   "display_name": "Python 3",
   "language": "python",
   "name": "python3"
  },
  "language_info": {
   "codemirror_mode": {
    "name": "ipython",
    "version": 3
   },
   "file_extension": ".py",
   "mimetype": "text/x-python",
   "name": "python",
   "nbconvert_exporter": "python",
   "pygments_lexer": "ipython3",
   "version": "3.11.7"
  }
 },
 "nbformat": 4,
 "nbformat_minor": 2
}
