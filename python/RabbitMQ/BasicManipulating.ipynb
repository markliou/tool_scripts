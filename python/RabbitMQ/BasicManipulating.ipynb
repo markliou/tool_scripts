{
 "cells": [
  {
   "cell_type": "code",
   "execution_count": 1,
   "metadata": {},
   "outputs": [],
   "source": [
    "import pika"
   ]
  },
  {
   "cell_type": "markdown",
   "metadata": {},
   "source": [
    "連線可分為三層:  \n",
    "1. credential: 如果有帳密就在這部分進行設定\n",
    "2. parameters: 負責連線資訊，包括連線server的ip和連線帳號。需要加上heartbeat是為告知server目前連線還存在，否則Server預設5分鐘就會斷線。\n",
    "3. connection: 決定連線的Session。  \n",
    "連線後需要創建channel，該channel中可以放入訊息的序列。"
   ]
  },
  {
   "cell_type": "code",
   "execution_count": 3,
   "metadata": {},
   "outputs": [],
   "source": [
    "connection_credential = pika.PlainCredentials(username='criuser', password='criuser')\n",
    "\n",
    "connection_parameters = pika.ConnectionParameters(host='xxx.xxx.xxx',\n",
    "                                                  port=5672,\n",
    "                                                  credentials=connection_credential,\n",
    "                                                  heartbeat=0,\n",
    "                                                  blocked_connection_timeout=86400)\n",
    "\n",
    "server = pika.BlockingConnection(connection_parameters)\n",
    "channel = server.channel()"
   ]
  },
  {
   "cell_type": "markdown",
   "metadata": {},
   "source": [
    "channel中可以放置不同的queue，並且針對不同的queue可以做message publushing"
   ]
  },
  {
   "cell_type": "code",
   "execution_count": 3,
   "metadata": {},
   "outputs": [],
   "source": [
    "queue_stat = channel.queue_declare(queue='first_que') #create a queue\n",
    "queue_stat = channel.queue_declare(queue='second_que') #create another queue"
   ]
  },
  {
   "cell_type": "markdown",
   "metadata": {},
   "source": [
    "rabbitmq中，交換資料的主要仰賴exchange這物件。exchanger總共有四種類型:\n",
    "* direct: 會比對ring是否相符\n",
    "* topic:跟direct很像，但是只要符合某些關鍵字就發送，不會像direct會嚴格比對\n",
    "* headers\n",
    "* fanout: 有甚麼就丟甚麼出去，大家喜歡怎麼收就全收下來  \n",
    "  先使用fanout模式來進行Subscribe功能\n",
    "\n",
    "[參考資料](https://www.rabbitmq.com/tutorials/tutorial-three-python.html)"
   ]
  },
  {
   "cell_type": "code",
   "execution_count": 31,
   "metadata": {},
   "outputs": [],
   "source": [
    "#測試subscribe的交換方法。這個exchanger最好在publisher跟subscriptor都做一次。\n",
    "channel.exchange_declare(exchange=\"sub\", exchange_type='fanout') #建構exchange\n",
    "\n",
    "#清理queue\n",
    "channel.queue_purge('first_que')\n",
    "channel.queue_purge('second_que')\n",
    "\n",
    "#把會訂閱的queue綁定。只需要在subscriptor上做就可。\n",
    "channel.queue_bind(exchange='sub', queue='first_que')\n",
    "channel.queue_bind(exchange='sub', queue='second_que') #也能用 queue=queue_stat.method.queue 。因為最後queue_stat是指到second_que。\n",
    "\n",
    "#發布消息。在publisher上做。\n",
    "channel.basic_publish(\n",
    "    exchange='sub', #給定這個exchanger名稱\n",
    "    routing_key='', \n",
    "    body=\"today is a good day\"\n",
    ")"
   ]
  },
  {
   "cell_type": "code",
   "execution_count": 32,
   "metadata": {},
   "outputs": [
    {
     "name": "stdout",
     "output_type": "stream",
     "text": [
      "b'today is a good day'\n",
      "<Basic.GetOk(['delivery_tag=16', 'exchange=sub', 'message_count=0', 'redelivered=False', 'routing_key='])>\n",
      "0\n"
     ]
    }
   ],
   "source": [
    "# 取得消息。在subscriptor上做。\n",
    "## method1: 使用內建迴圈方法持續讀取。\n",
    "# def msg_callback(channel, method, properties, body):\n",
    "#     print(\"msg: {}\".format(body))\n",
    "    \n",
    "# res = channel.basic_consume(queue='second_que', on_message_callback=msg_callback)\n",
    "# channel.start_consuming() #這邊會有一個無限迴圈，不斷進行rabbitMQ的讀取\n",
    "\n",
    "##method2\n",
    "res = channel.basic_get(queue='first_que')\n",
    "print(res[2])\n",
    "res = channel.basic_get(queue='second_que')\n",
    "print(res[0])\n",
    "print(res[0].message_count)\n"
   ]
  }
 ],
 "metadata": {
  "interpreter": {
   "hash": "2be5faf79681da6f2a61fdfdd5405d65d042280f7fba6178067603e3a2925119"
  },
  "kernelspec": {
   "display_name": "Python 3.10.0 64-bit",
   "language": "python",
   "name": "python3"
  },
  "language_info": {
   "codemirror_mode": {
    "name": "ipython",
    "version": 3
   },
   "file_extension": ".py",
   "mimetype": "text/x-python",
   "name": "python",
   "nbconvert_exporter": "python",
   "pygments_lexer": "ipython3",
   "version": "3.10.0"
  },
  "orig_nbformat": 4
 },
 "nbformat": 4,
 "nbformat_minor": 2
}
